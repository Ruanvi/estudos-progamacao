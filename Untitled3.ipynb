{
  "nbformat": 4,
  "nbformat_minor": 0,
  "metadata": {
    "colab": {
      "provenance": [],
      "authorship_tag": "ABX9TyNmabyA9Z4LUDp0Fjd6Qr26",
      "include_colab_link": true
    },
    "kernelspec": {
      "name": "python3",
      "display_name": "Python 3"
    },
    "language_info": {
      "name": "python"
    }
  },
  "cells": [
    {
      "cell_type": "markdown",
      "metadata": {
        "id": "view-in-github",
        "colab_type": "text"
      },
      "source": [
        "<a href=\"https://colab.research.google.com/github/Ruanvi/estudos-progamacao/blob/main/Untitled3.ipynb\" target=\"_parent\"><img src=\"https://colab.research.google.com/assets/colab-badge.svg\" alt=\"Open In Colab\"/></a>"
      ]
    },
    {
      "cell_type": "code",
      "execution_count": 15,
      "metadata": {
        "colab": {
          "base_uri": "https://localhost:8080/"
        },
        "id": "8VBJiSlZ4-_F",
        "outputId": "fce55290-e6a4-4315-e723-bdab94e6c202"
      },
      "outputs": [
        {
          "output_type": "stream",
          "name": "stdout",
          "text": [
            "Digite a idade do atleta : 25\n",
            "Senior\n"
          ]
        }
      ],
      "source": [
        "idade = int(input('Digite a idade do atleta : '))\n",
        "if(idade < 14):\n",
        "  print('Infantil')\n",
        "elif(idade < 18):\n",
        "  print('Juvenil')\n",
        "else:\n",
        "  print('Senior')\n"
      ]
    },
    {
      "cell_type": "code",
      "source": [],
      "metadata": {
        "id": "o9lQlqMGAhUt"
      },
      "execution_count": null,
      "outputs": []
    },
    {
      "cell_type": "code",
      "source": [
        "frutas = [' maçã', 'laranja', 'mamão', 'pera', 'uva', 'amora', 'goiaba']\n",
        "frutas\n"
      ],
      "metadata": {
        "colab": {
          "base_uri": "https://localhost:8080/"
        },
        "id": "USRglBudA3D_",
        "outputId": "ede03c96-a02c-4230-daf4-e17489b31610"
      },
      "execution_count": 21,
      "outputs": [
        {
          "output_type": "execute_result",
          "data": {
            "text/plain": [
              "[' maçã', 'laranja', 'mamão', 'pera', 'uva', 'amora', 'goiaba']"
            ]
          },
          "metadata": {},
          "execution_count": 21
        }
      ]
    },
    {
      "cell_type": "code",
      "source": [
        "len(frutas)"
      ],
      "metadata": {
        "colab": {
          "base_uri": "https://localhost:8080/"
        },
        "id": "UR7pvW4JBinl",
        "outputId": "70c6d50d-9fd8-4561-aa3b-c07bea0a3cdb"
      },
      "execution_count": 27,
      "outputs": [
        {
          "output_type": "execute_result",
          "data": {
            "text/plain": [
              "7"
            ]
          },
          "metadata": {},
          "execution_count": 27
        }
      ]
    },
    {
      "cell_type": "code",
      "source": [
        "print(frutas [0]) # sempre começa por 0\n",
        "print(frutas[1])\n",
        "print(frutas [2])\n",
        "print(frutas [3])\n",
        "print(frutas [4])\n",
        "print(frutas [5])\n",
        "print(frutas [6]) # sempre termina com 1 numero antes "
      ],
      "metadata": {
        "colab": {
          "base_uri": "https://localhost:8080/"
        },
        "id": "KLNOodLiCDyE",
        "outputId": "50b5384c-198a-4ad7-bfa8-a547282df4bc"
      },
      "execution_count": 26,
      "outputs": [
        {
          "output_type": "stream",
          "name": "stdout",
          "text": [
            " maçã\n",
            "laranja\n",
            "mamão\n",
            "pera\n",
            "uva\n",
            "amora\n",
            "goiaba\n"
          ]
        }
      ]
    },
    {
      "cell_type": "code",
      "source": [
        "alunos = ['Evelyn', 'Joel', 'Rebeca', 'Taina', 'Matheus', 'Beatriz']\n",
        "alunos[2] "
      ],
      "metadata": {
        "id": "yV8JRsQcDLTi"
      },
      "execution_count": 49,
      "outputs": []
    },
    {
      "cell_type": "code",
      "source": [
        "alunos[0] = 'Magra Close'\n",
        "alunos[1] = 'Verdinha'\n",
        "alunos[2] = 'Mc Divertida'\n",
        "alunos[3] = 'Microsoft'\n",
        "alunos[4] = 'Litlle popcorn'\n",
        "alunos[5] = 'Chinesinha'\n"
      ],
      "metadata": {
        "id": "w6KW7mH2E1Hh"
      },
      "execution_count": 68,
      "outputs": []
    },
    {
      "cell_type": "code",
      "source": [
        "alunos"
      ],
      "metadata": {
        "colab": {
          "base_uri": "https://localhost:8080/"
        },
        "id": "dnW4lCtrG27x",
        "outputId": "6f5fd794-ea85-4856-e090-555c72ee5a76"
      },
      "execution_count": 75,
      "outputs": [
        {
          "output_type": "execute_result",
          "data": {
            "text/plain": [
              "['Magra Close',\n",
              " 'Verdinha',\n",
              " 'Mc Divertida',\n",
              " 'Microsoft',\n",
              " 'Litlle popcorn',\n",
              " 'Chinesinha',\n",
              " 'Gremaldo',\n",
              " 'Evelyn',\n",
              " 'Evelyn',\n",
              " 'Juliana Bond',\n",
              " 'Evelyn']"
            ]
          },
          "metadata": {},
          "execution_count": 75
        }
      ]
    },
    {
      "cell_type": "code",
      "source": [
        "alunos.append('')\n",
        "alunos"
      ],
      "metadata": {
        "colab": {
          "base_uri": "https://localhost:8080/"
        },
        "id": "s3enN6hXLgQ6",
        "outputId": "28d18c4b-f188-4983-e6f5-ebef5ba92252"
      },
      "execution_count": 76,
      "outputs": [
        {
          "output_type": "execute_result",
          "data": {
            "text/plain": [
              "['Magra Close',\n",
              " 'Verdinha',\n",
              " 'Mc Divertida',\n",
              " 'Microsoft',\n",
              " 'Litlle popcorn',\n",
              " 'Chinesinha',\n",
              " 'Gremaldo',\n",
              " 'Evelyn',\n",
              " 'Evelyn',\n",
              " 'Juliana Bond',\n",
              " 'Evelyn',\n",
              " '']"
            ]
          },
          "metadata": {},
          "execution_count": 76
        }
      ]
    },
    {
      "cell_type": "code",
      "source": [
        "alunos.append(input('Digite o nome: '))"
      ],
      "metadata": {
        "colab": {
          "base_uri": "https://localhost:8080/"
        },
        "id": "OPOV-57DGHbf",
        "outputId": "fa4e825d-ddd5-4a60-ef39-e426e5b00dd0"
      },
      "execution_count": 102,
      "outputs": [
        {
          "name": "stdout",
          "output_type": "stream",
          "text": [
            "Digite o nome: Yui Kimura\n"
          ]
        }
      ]
    },
    {
      "cell_type": "code",
      "source": [],
      "metadata": {
        "id": "SXsQdq2NOZ6w"
      },
      "execution_count": 78,
      "outputs": []
    },
    {
      "cell_type": "code",
      "source": [
        "alunos\n"
      ],
      "metadata": {
        "colab": {
          "base_uri": "https://localhost:8080/"
        },
        "id": "LhjuBgXLHBHP",
        "outputId": "d00304fd-3bd4-4fa8-a9f8-d744bcbbe884"
      },
      "execution_count": 103,
      "outputs": [
        {
          "output_type": "execute_result",
          "data": {
            "text/plain": [
              "['Magra Close',\n",
              " 'Verdinha',\n",
              " 'Mc Divertida',\n",
              " 'Microsoft',\n",
              " 'Litlle popcorn',\n",
              " 'Chinesinha',\n",
              " 'Gremaldo',\n",
              " 'Evelyn',\n",
              " 'Yui Kimura']"
            ]
          },
          "metadata": {},
          "execution_count": 103
        }
      ]
    },
    {
      "cell_type": "code",
      "source": [
        "len(alunos)"
      ],
      "metadata": {
        "colab": {
          "base_uri": "https://localhost:8080/"
        },
        "id": "z2AmBsCHD4z3",
        "outputId": "58e18175-9db9-4d1a-9956-511ff23417ba"
      },
      "execution_count": 104,
      "outputs": [
        {
          "output_type": "execute_result",
          "data": {
            "text/plain": [
              "9"
            ]
          },
          "metadata": {},
          "execution_count": 104
        }
      ]
    },
    {
      "cell_type": "code",
      "source": [
        "print(alunos[0])\n",
        "print(alunos[1])\n",
        "print(alunos[2])\n",
        "print(alunos[3])\n",
        "print(alunos[4])\n",
        "print(alunos[5])\n",
        "print(alunos[6])\n",
        "print(alunos[7])\n",
        "print(alunos[8])\n",
        "\n"
      ],
      "metadata": {
        "colab": {
          "base_uri": "https://localhost:8080/"
        },
        "id": "ejtEyLIKECZM",
        "outputId": "f6940ea3-c058-4171-c656-1c3d582c4a71"
      },
      "execution_count": 105,
      "outputs": [
        {
          "output_type": "stream",
          "name": "stdout",
          "text": [
            "Magra Close\n",
            "Verdinha\n",
            "Mc Divertida\n",
            "Microsoft\n",
            "Litlle popcorn\n",
            "Chinesinha\n",
            "Gremaldo\n",
            "Evelyn\n",
            "Yui Kimura\n"
          ]
        }
      ]
    },
    {
      "cell_type": "code",
      "source": [
        "nome = input('Digite o nome: ')\n",
        "if nome in alunos:\n",
        "  print('Tem sian')\n",
        "else:\n",
        "  print('Tem nheo') "
      ],
      "metadata": {
        "id": "KLAnSKFkLsFt"
      },
      "execution_count": null,
      "outputs": []
    },
    {
      "cell_type": "code",
      "source": [
        "nome = input('Digite o nome: ')\n",
        "if nome in alunos:\n",
        "  print('Tem ', nome)\n",
        "else:\n",
        "  print('Tem ', nome)"
      ],
      "metadata": {
        "colab": {
          "base_uri": "https://localhost:8080/"
        },
        "id": "pPOlYdZzQTJH",
        "outputId": "11067ab6-22df-4cb7-fde9-5cad9bab1c8b"
      },
      "execution_count": 100,
      "outputs": [
        {
          "output_type": "stream",
          "name": "stdout",
          "text": [
            "Digite o nome: Evelyn\n",
            "Tem  Evelyn\n"
          ]
        }
      ]
    },
    {
      "cell_type": "code",
      "source": [
        "alunos"
      ],
      "metadata": {
        "colab": {
          "base_uri": "https://localhost:8080/"
        },
        "id": "yHC2Zl5CP55P",
        "outputId": "8f133b62-0356-440f-9d42-a3b94d0ca73f"
      },
      "execution_count": 106,
      "outputs": [
        {
          "output_type": "execute_result",
          "data": {
            "text/plain": [
              "['Magra Close',\n",
              " 'Verdinha',\n",
              " 'Mc Divertida',\n",
              " 'Microsoft',\n",
              " 'Litlle popcorn',\n",
              " 'Chinesinha',\n",
              " 'Gremaldo',\n",
              " 'Evelyn',\n",
              " 'Yui Kimura']"
            ]
          },
          "metadata": {},
          "execution_count": 106
        }
      ]
    },
    {
      "cell_type": "code",
      "source": [],
      "metadata": {
        "id": "_uf-fWUZRuTT"
      },
      "execution_count": null,
      "outputs": []
    }
  ]
}