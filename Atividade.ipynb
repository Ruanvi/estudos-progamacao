{
  "nbformat": 4,
  "nbformat_minor": 0,
  "metadata": {
    "colab": {
      "provenance": [],
      "authorship_tag": "ABX9TyNyiA/mJY7QRv2S8jISMZSi",
      "include_colab_link": true
    },
    "kernelspec": {
      "name": "python3",
      "display_name": "Python 3"
    },
    "language_info": {
      "name": "python"
    }
  },
  "cells": [
    {
      "cell_type": "markdown",
      "metadata": {
        "id": "view-in-github",
        "colab_type": "text"
      },
      "source": [
        "<a href=\"https://colab.research.google.com/github/Ruanvi/estudos-progamacao/blob/main/Atividade.ipynb\" target=\"_parent\"><img src=\"https://colab.research.google.com/assets/colab-badge.svg\" alt=\"Open In Colab\"/></a>"
      ]
    },
    {
      "cell_type": "code",
      "execution_count": 1,
      "metadata": {
        "id": "R6_wEom2TB7R"
      },
      "outputs": [],
      "source": [
        "Pessoas = 'Mc DIvertida', 'Magra CLose', 'Verdinha', 'Microsoft', 'Ex Trans', 'Griosvaldo', 'Sapatex'"
      ]
    },
    {
      "cell_type": "code",
      "source": [
        "Pessoas"
      ],
      "metadata": {
        "colab": {
          "base_uri": "https://localhost:8080/"
        },
        "id": "CvvnIx3GUetD",
        "outputId": "20cd4da4-f3cc-48b7-fd56-3eebfaf5b86a"
      },
      "execution_count": 3,
      "outputs": [
        {
          "output_type": "execute_result",
          "data": {
            "text/plain": [
              "('Mc DIvertida',\n",
              " 'Magra CLose',\n",
              " 'Verdinha',\n",
              " 'Microsoft',\n",
              " 'Ex Trans',\n",
              " 'Griosvaldo',\n",
              " 'Sapatex')"
            ]
          },
          "metadata": {},
          "execution_count": 3
        }
      ]
    },
    {
      "cell_type": "code",
      "source": [
        "nome = input('Digite o nome: ')\n",
        "if nome in Pessoas:\n",
        "  print('Tem ', nome)\n",
        "\n",
        "else:\n",
        "  print('Não Tem'  , nome)"
      ],
      "metadata": {
        "colab": {
          "base_uri": "https://localhost:8080/"
        },
        "id": "f8-AveJ1Uk0D",
        "outputId": "ff8441cd-5903-447a-aa04-97f325b5f182"
      },
      "execution_count": 18,
      "outputs": [
        {
          "output_type": "stream",
          "name": "stdout",
          "text": [
            "Digite o nome: Verdinha\n",
            "Tem  Verdinha\n"
          ]
        }
      ]
    }
  ]
}