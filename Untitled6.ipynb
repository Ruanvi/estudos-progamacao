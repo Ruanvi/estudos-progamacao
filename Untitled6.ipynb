{
  "nbformat": 4,
  "nbformat_minor": 0,
  "metadata": {
    "colab": {
      "provenance": [],
      "authorship_tag": "ABX9TyOoa4aArV8v4N88zrQEXKmc",
      "include_colab_link": true
    },
    "kernelspec": {
      "name": "python3",
      "display_name": "Python 3"
    },
    "language_info": {
      "name": "python"
    }
  },
  "cells": [
    {
      "cell_type": "markdown",
      "metadata": {
        "id": "view-in-github",
        "colab_type": "text"
      },
      "source": [
        "<a href=\"https://colab.research.google.com/github/Ruanvi/estudos-progamacao/blob/main/Untitled6.ipynb\" target=\"_parent\"><img src=\"https://colab.research.google.com/assets/colab-badge.svg\" alt=\"Open In Colab\"/></a>"
      ]
    },
    {
      "cell_type": "code",
      "execution_count": null,
      "metadata": {
        "colab": {
          "base_uri": "https://localhost:8080/"
        },
        "id": "xIyt3XPwQoCI",
        "outputId": "acfb9070-8267-4d63-e258-aedf4a64a2d2"
      },
      "outputs": [
        {
          "output_type": "execute_result",
          "data": {
            "text/plain": [
              "[1, 2, 3, 4, 5, 6, 7, 8, 9, 10]"
            ]
          },
          "metadata": {},
          "execution_count": 3
        }
      ],
      "source": [
        "cont = 1\n",
        "numeros = []\n",
        "\n",
        "\n",
        "while(cont <= 10):\n",
        "  numeros.append(cont)\n",
        "  cont +=1\n",
        "\n",
        "\n",
        "\n",
        "\n",
        "numeros"
      ]
    },
    {
      "cell_type": "code",
      "source": [
        "cont = 1\n",
        "numeros = []\n",
        "tamanho = int(input('Digite o tamanho da lista:' ))\n",
        "\n",
        "\n",
        "\n",
        "while(cont <= tamanho):\n",
        "  numeros.append(cont)\n",
        "  cont +=1\n",
        "\n",
        "\n",
        "\n",
        "numeros"
      ],
      "metadata": {
        "colab": {
          "base_uri": "https://localhost:8080/"
        },
        "id": "-LidnrxcSj6E",
        "outputId": "4e7defbd-f7db-4f93-dc99-62329e1096e3"
      },
      "execution_count": null,
      "outputs": [
        {
          "name": "stdout",
          "output_type": "stream",
          "text": [
            "Digite o tamanho da lista:5\n"
          ]
        },
        {
          "output_type": "execute_result",
          "data": {
            "text/plain": [
              "[1, 2, 3, 4, 5]"
            ]
          },
          "metadata": {},
          "execution_count": 14
        }
      ]
    },
    {
      "cell_type": "code",
      "source": [
        "cidades = [] \n",
        "city = input('Digite uma cidade:' )\n",
        "cidades.append(city)\n",
        "\n",
        "\n",
        "while(city != '0'):\n",
        "  cidades.append(city)\n",
        "  city = input('Digite uma cidade: ')\n",
        "\n",
        "\n",
        "\n",
        "cidades\n",
        " "
      ],
      "metadata": {
        "colab": {
          "base_uri": "https://localhost:8080/"
        },
        "id": "n-1spZxMUvsQ",
        "outputId": "6b9b428d-cd59-446f-8317-c072797a297b"
      },
      "execution_count": null,
      "outputs": [
        {
          "name": "stdout",
          "output_type": "stream",
          "text": [
            "Digite uma cidade:João Pessoa\n",
            "Digite uma cidade: Babadeira City\n",
            "Digite uma cidade: Closeira Magra Mess City\n",
            "Digite uma cidade: Verdinha City\n",
            "Digite uma cidade: 0\n"
          ]
        },
        {
          "output_type": "execute_result",
          "data": {
            "text/plain": [
              "['João Pessoa',\n",
              " 'João Pessoa',\n",
              " 'Babadeira City',\n",
              " 'Closeira Magra Mess City',\n",
              " 'Verdinha City']"
            ]
          },
          "metadata": {},
          "execution_count": 19
        }
      ]
    },
    {
      "cell_type": "code",
      "source": [
        "numeros = [] \n",
        "num = int(input('Digite um numero:' ))\n",
        "\n",
        "while(num >= 0):\n",
        " if(num %2 == 0 ):\n",
        "  print(num,' é par')\n",
        "  num = int(input('Digite um numero:' ))\n",
        "else:\n",
        "  print(num,' é impar')\n",
        "  num = int(input('Digite um numero:' ))\n",
        "\n",
        "print('Acabou Xexelenta')"
      ],
      "metadata": {
        "id": "R75Ne0SQYblK",
        "colab": {
          "base_uri": "https://localhost:8080/"
        },
        "outputId": "93abbc53-54cf-4fc5-a7d8-8489abdebcf0"
      },
      "execution_count": null,
      "outputs": [
        {
          "output_type": "stream",
          "name": "stdout",
          "text": [
            "Digite um numero:1000\n",
            "1000  é par\n",
            "Digite um numero:2300\n",
            "2300  é par\n",
            "Digite um numero:-123\n",
            "-123  é impar\n",
            "Digite um numero:122\n",
            "Acabou Xexelenta\n"
          ]
        }
      ]
    },
    {
      "cell_type": "code",
      "source": [],
      "metadata": {
        "id": "1-M9nbzyAyO7"
      },
      "execution_count": null,
      "outputs": []
    }
  ]
}