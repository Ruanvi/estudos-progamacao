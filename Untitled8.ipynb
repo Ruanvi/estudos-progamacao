{
  "nbformat": 4,
  "nbformat_minor": 0,
  "metadata": {
    "colab": {
      "provenance": [],
      "authorship_tag": "ABX9TyNCR1vz9IanNNldULpgTKjJ",
      "include_colab_link": true
    },
    "kernelspec": {
      "name": "python3",
      "display_name": "Python 3"
    },
    "language_info": {
      "name": "python"
    }
  },
  "cells": [
    {
      "cell_type": "markdown",
      "metadata": {
        "id": "view-in-github",
        "colab_type": "text"
      },
      "source": [
        "<a href=\"https://colab.research.google.com/github/Ruanvi/estudos-progamacao/blob/main/Untitled8.ipynb\" target=\"_parent\"><img src=\"https://colab.research.google.com/assets/colab-badge.svg\" alt=\"Open In Colab\"/></a>"
      ]
    },
    {
      "cell_type": "code",
      "execution_count": null,
      "metadata": {
        "id": "dKMoGzDaFOvd"
      },
      "outputs": [],
      "source": [
        "#Declaração da função\n",
        "def my_frist_function():\n",
        "  print('minha primeira função')"
      ]
    },
    {
      "cell_type": "code",
      "source": [
        "#chamando uma função\n",
        "my_frist_function()"
      ],
      "metadata": {
        "colab": {
          "base_uri": "https://localhost:8080/"
        },
        "id": "oWOBjNwbHv9O",
        "outputId": "7000aea5-5db0-42cf-9b99-6b5f15198491"
      },
      "execution_count": null,
      "outputs": [
        {
          "output_type": "stream",
          "name": "stdout",
          "text": [
            "minha primeira função\n"
          ]
        }
      ]
    },
    {
      "cell_type": "code",
      "source": [
        "def pronomeTratam(pronome):\n",
        "  print(pronome,\"Evelyn\")"
      ],
      "metadata": {
        "id": "ekFcKXItIfCv"
      },
      "execution_count": null,
      "outputs": []
    },
    {
      "cell_type": "code",
      "source": [
        "pronomeTratam('Dutora')\n",
        "pronomeTratam('Ilmo')\n",
        "pronomeTratam('Senhora')"
      ],
      "metadata": {
        "colab": {
          "base_uri": "https://localhost:8080/"
        },
        "id": "DkE3t2hdJDyH",
        "outputId": "5edd8ed7-5579-4b3a-e52c-682a0cdb286e"
      },
      "execution_count": null,
      "outputs": [
        {
          "output_type": "stream",
          "name": "stdout",
          "text": [
            "Dutora Evelyn\n",
            "Ilmo Evelyn\n",
            "Senhora Evelyn\n"
          ]
        }
      ]
    },
    {
      "cell_type": "code",
      "source": [
        "def tratamNome(pronome, nome):\n",
        "  print(pronome, nome)"
      ],
      "metadata": {
        "id": "CN4X4_XNJz3W"
      },
      "execution_count": null,
      "outputs": []
    },
    {
      "cell_type": "code",
      "source": [
        "tratamNome('Dr(a)','Evelyn')"
      ],
      "metadata": {
        "id": "wq0-MXCNKOie"
      },
      "execution_count": null,
      "outputs": []
    },
    {
      "cell_type": "code",
      "source": [
        "def nomeEAno(nome, ano):\n",
        "  Idade = 2023 - ano\n",
        "  print(nome, Idade, 'anos')"
      ],
      "metadata": {
        "id": "CFQJnDnLMmOm"
      },
      "execution_count": null,
      "outputs": []
    },
    {
      "cell_type": "code",
      "source": [
        "nomeEAno('Evelyn', 2004)"
      ],
      "metadata": {
        "colab": {
          "base_uri": "https://localhost:8080/"
        },
        "id": "keMQBSv8K2A2",
        "outputId": "464dab82-45dd-4da8-8292-9b17be02e9e3"
      },
      "execution_count": null,
      "outputs": [
        {
          "output_type": "stream",
          "name": "stdout",
          "text": [
            "Evelyn 19 anos\n"
          ]
        }
      ]
    },
    {
      "cell_type": "code",
      "source": [
        "#Função que recebe Altura e PEso e retorna o IMC\n",
        "#Fórmula IMC peso/altura**2 "
      ],
      "metadata": {
        "id": "W4oHWeMUOAWd"
      },
      "execution_count": null,
      "outputs": []
    },
    {
      "cell_type": "code",
      "source": [
        "def calculoIMC(altura, peso):\n",
        "   print(peso/altura**2)"
      ],
      "metadata": {
        "id": "WR8DxhzCR3if"
      },
      "execution_count": null,
      "outputs": []
    },
    {
      "cell_type": "code",
      "source": [
        "calculoIMC(1.80, 78)"
      ],
      "metadata": {
        "colab": {
          "base_uri": "https://localhost:8080/"
        },
        "id": "dZ1zu7nRSEPH",
        "outputId": "ae77f032-2006-4ef9-8250-e050898c6527"
      },
      "execution_count": null,
      "outputs": [
        {
          "output_type": "stream",
          "name": "stdout",
          "text": [
            "24.074074074074073\n"
          ]
        }
      ]
    },
    {
      "cell_type": "code",
      "source": [
        "def calculoIMC(altura, peso):\n",
        " return peso/altura**2"
      ],
      "metadata": {
        "id": "eSNCpmHhQy4r"
      },
      "execution_count": null,
      "outputs": []
    },
    {
      "cell_type": "code",
      "source": [
        "calculoIMC(1.80, 78) > 20\n"
      ],
      "metadata": {
        "colab": {
          "base_uri": "https://localhost:8080/"
        },
        "id": "g61V_6XZQ4Wq",
        "outputId": "e2c33f92-5627-42e3-b393-439acd35c396"
      },
      "execution_count": null,
      "outputs": [
        {
          "output_type": "execute_result",
          "data": {
            "text/plain": [
              "True"
            ]
          },
          "metadata": {},
          "execution_count": 44
        }
      ]
    },
    {
      "cell_type": "code",
      "source": [
        "# J = C * i * t\n",
        "# Sendo :\n",
        "# J =\n",
        "# C =\n",
        "# i =\n",
        "# t =  \n",
        "# Crie uma função que recebe um valor de emprestimo e o tempo e retorne quanto será pago o juros ao final do periodo.\n",
        "# Use uma taxa de juros de 2.5%\n"
      ],
      "metadata": {
        "id": "KwZtYmOJYeSx"
      },
      "execution_count": null,
      "outputs": []
    },
    {
      "cell_type": "code",
      "source": [
        "def valorEmprest(valor, tempo ):\n",
        " return  valor * 0.025 * tempo"
      ],
      "metadata": {
        "id": "qP_iJC9raFVI"
      },
      "execution_count": null,
      "outputs": []
    },
    {
      "cell_type": "code",
      "source": [
        "valorEmprest(1000, 1)\n"
      ],
      "metadata": {
        "colab": {
          "base_uri": "https://localhost:8080/"
        },
        "id": "6wDHkHdpaFZ4",
        "outputId": "e3fb3a8e-db0d-49f4-ee52-97dc00402e49"
      },
      "execution_count": null,
      "outputs": [
        {
          "output_type": "execute_result",
          "data": {
            "text/plain": [
              "25.0"
            ]
          },
          "metadata": {},
          "execution_count": 57
        }
      ]
    },
    {
      "cell_type": "code",
      "source": [
        "def valorTotalEmprest(valor, tempo ):\n",
        " return  valor + valorEmprest(valor, tempo)"
      ],
      "metadata": {
        "id": "mVDZcfUJdTsZ"
      },
      "execution_count": null,
      "outputs": []
    },
    {
      "cell_type": "code",
      "source": [
        "valorTotalEmprest(1000, 5)"
      ],
      "metadata": {
        "colab": {
          "base_uri": "https://localhost:8080/"
        },
        "id": "DmbXrZ9ieOsJ",
        "outputId": "5ebe2201-6833-41e0-98dd-a1a61aea95e2"
      },
      "execution_count": null,
      "outputs": [
        {
          "output_type": "execute_result",
          "data": {
            "text/plain": [
              "1125.0"
            ]
          },
          "metadata": {},
          "execution_count": 66
        }
      ]
    },
    {
      "cell_type": "code",
      "source": [
        "valor = float(input('Digite o valor do emprestimo: '))\n",
        "tempo = int(input('Em quanto tempo? '))\n",
        "\n",
        "\n",
        "valorTotalEmprest(valor, tempo)"
      ],
      "metadata": {
        "colab": {
          "base_uri": "https://localhost:8080/"
        },
        "id": "8FcLOYBIfEb9",
        "outputId": "975813fe-2c94-47b9-ca80-936561a7b412"
      },
      "execution_count": null,
      "outputs": [
        {
          "name": "stdout",
          "output_type": "stream",
          "text": [
            "Digite o valor do emprestimo: 3560\n",
            "Em quanto tempo? 12\n"
          ]
        },
        {
          "output_type": "execute_result",
          "data": {
            "text/plain": [
              "4628.0"
            ]
          },
          "metadata": {},
          "execution_count": 68
        }
      ]
    },
    {
      "cell_type": "code",
      "source": [
        "#função calcula média \n",
        " \n",
        "def calculaMedia(x, y, z):\n",
        "  return (x+y+z)/3\n",
        "\n"
      ],
      "metadata": {
        "id": "OIvKuRUYgETK"
      },
      "execution_count": 1,
      "outputs": []
    },
    {
      "cell_type": "code",
      "source": [
        "a = float(input('Nota 1: '))\n",
        "b = float(input('Nota 2: '))\n",
        "c = float(input('Nota 3: '))\n",
        "\n",
        "calculaMedia(a, b, c)"
      ],
      "metadata": {
        "colab": {
          "base_uri": "https://localhost:8080/"
        },
        "id": "5YNxAgd6J2XD",
        "outputId": "e5548793-2960-44fa-fd9b-bf7923fc6c8e"
      },
      "execution_count": 9,
      "outputs": [
        {
          "name": "stdout",
          "output_type": "stream",
          "text": [
            "nota 1: 9\n",
            "nota 2: 8\n",
            "nota 3: 10\n"
          ]
        },
        {
          "output_type": "execute_result",
          "data": {
            "text/plain": [
              "9.0"
            ]
          },
          "metadata": {},
          "execution_count": 9
        }
      ]
    },
    {
      "cell_type": "code",
      "source": [
        "#Argumentos arbitrários *args\n",
        "#Quando não se tem certeza quantos argumentos são passados pela função \n",
        "\n",
        "def mediaTotal(*notas):\n",
        "  soma = 0\n",
        "  for nota in notas:\n",
        "    soma += nota\n",
        "  media = soma/len(notas)\n",
        "  return media "
      ],
      "metadata": {
        "id": "Vegn66z4MHyO"
      },
      "execution_count": 21,
      "outputs": []
    },
    {
      "cell_type": "code",
      "source": [
        "mediaTotal(1, 3, 2, 4, 6, 5, 7, 9, 8, 10)"
      ],
      "metadata": {
        "colab": {
          "base_uri": "https://localhost:8080/"
        },
        "id": "Fs2s8VJ6Nw1Q",
        "outputId": "08935461-9fec-4f15-f83d-24920ff0e731"
      },
      "execution_count": 22,
      "outputs": [
        {
          "output_type": "execute_result",
          "data": {
            "text/plain": [
              "5.5"
            ]
          },
          "metadata": {},
          "execution_count": 22
        }
      ]
    },
    {
      "cell_type": "code",
      "source": [
        "#Recebe varios numeros o maior.\n",
        "\n",
        "def retornaMaior(*num):\n",
        "  maior = 0 \n",
        "  for num in num:\n",
        "    if(num >= maior):\n",
        "      maior = num\n",
        "  return maior\n",
        "  "
      ],
      "metadata": {
        "id": "WfXwSAUwPirc"
      },
      "execution_count": 36,
      "outputs": []
    },
    {
      "cell_type": "code",
      "source": [
        "retornaMaior(1, 3, 4, 6, 8, 9)"
      ],
      "metadata": {
        "colab": {
          "base_uri": "https://localhost:8080/"
        },
        "id": "h07fs-zsZkTz",
        "outputId": "9ba0a74e-b46c-4188-9449-dd52782ded0d"
      },
      "execution_count": 37,
      "outputs": [
        {
          "output_type": "execute_result",
          "data": {
            "text/plain": [
              "9"
            ]
          },
          "metadata": {},
          "execution_count": 37
        }
      ]
    },
    {
      "cell_type": "code",
      "source": [
        "def retornaMaior(*num):\n",
        "  maior = 0 \n",
        "  for num in num:\n",
        "    if(num >= maior):\n",
        "      maior = num\n",
        "  return maior"
      ],
      "metadata": {
        "id": "BLxxaP9rcrhU"
      },
      "execution_count": null,
      "outputs": []
    },
    {
      "cell_type": "code",
      "source": [
        "#Valor de parametro padrão \n",
        "\n",
        "def nacionalidade(country = 'Cuba'):\n",
        "  print('Eu nasci em: '+ country)"
      ],
      "metadata": {
        "id": "4Cd8BcYyeV2V"
      },
      "execution_count": 38,
      "outputs": []
    },
    {
      "cell_type": "code",
      "source": [
        "nacionalidade('Brasil')"
      ],
      "metadata": {
        "colab": {
          "base_uri": "https://localhost:8080/"
        },
        "id": "SgJRrwW4fKM-",
        "outputId": "46f8232e-8668-4947-80aa-b10a98c9005e"
      },
      "execution_count": 39,
      "outputs": [
        {
          "output_type": "stream",
          "name": "stdout",
          "text": [
            "Eu nasci em: Brasil\n"
          ]
        }
      ]
    },
    {
      "cell_type": "code",
      "source": [
        "def soma(a, b):\n",
        "  return a + b"
      ],
      "metadata": {
        "id": "nDCIUlBofhcd"
      },
      "execution_count": 46,
      "outputs": []
    },
    {
      "cell_type": "code",
      "source": [
        "soma (10, 6)\n"
      ],
      "metadata": {
        "colab": {
          "base_uri": "https://localhost:8080/"
        },
        "id": "4MwtPGsfiNiY",
        "outputId": "df74b2ff-1419-4561-8593-ed1c080938a7"
      },
      "execution_count": 48,
      "outputs": [
        {
          "output_type": "execute_result",
          "data": {
            "text/plain": [
              "16"
            ]
          },
          "metadata": {},
          "execution_count": 48
        }
      ]
    },
    {
      "cell_type": "code",
      "source": [
        "def valorAbsoluto(num):\n",
        "  if(num <0):\n",
        "    num = num * -1\n",
        "  return num "
      ],
      "metadata": {
        "id": "eCU-ckMdibja"
      },
      "execution_count": 49,
      "outputs": []
    },
    {
      "cell_type": "code",
      "source": [
        "valorAbsoluto(-10)"
      ],
      "metadata": {
        "colab": {
          "base_uri": "https://localhost:8080/"
        },
        "id": "TwUXJ_CIi7Ou",
        "outputId": "c7f2fadd-e449-4474-b4ad-15f90ff95674"
      },
      "execution_count": 53,
      "outputs": [
        {
          "output_type": "execute_result",
          "data": {
            "text/plain": [
              "10"
            ]
          },
          "metadata": {},
          "execution_count": 53
        }
      ]
    },
    {
      "cell_type": "code",
      "source": [
        "def maiorque3(lista):\n",
        "  novaLista = []\n",
        "  for item in lista:\n",
        "    if(len(item) > 3):\n",
        "      novaLista.append(item)\n",
        "  return novaLista"
      ],
      "metadata": {
        "id": "UDwvFvkXjH0n"
      },
      "execution_count": 58,
      "outputs": []
    },
    {
      "cell_type": "code",
      "source": [
        "frutas = ['uva', 'maçã', 'goiaba']\n",
        "maiorque3(frutas)"
      ],
      "metadata": {
        "colab": {
          "base_uri": "https://localhost:8080/"
        },
        "id": "Pb3BS-ozknfr",
        "outputId": "0f1d8253-c5dd-4a00-af67-eddd98cd1c60"
      },
      "execution_count": 59,
      "outputs": [
        {
          "output_type": "execute_result",
          "data": {
            "text/plain": [
              "['maçã', 'goiaba']"
            ]
          },
          "metadata": {},
          "execution_count": 59
        }
      ]
    }
  ]
}