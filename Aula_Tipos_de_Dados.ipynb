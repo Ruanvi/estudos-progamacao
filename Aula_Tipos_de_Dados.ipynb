{
  "nbformat": 4,
  "nbformat_minor": 0,
  "metadata": {
    "colab": {
      "provenance": [],
      "authorship_tag": "ABX9TyMdGagURdPfPzQ3TKsRAo1/",
      "include_colab_link": true
    },
    "kernelspec": {
      "name": "python3",
      "display_name": "Python 3"
    },
    "language_info": {
      "name": "python"
    }
  },
  "cells": [
    {
      "cell_type": "markdown",
      "metadata": {
        "id": "view-in-github",
        "colab_type": "text"
      },
      "source": [
        "<a href=\"https://colab.research.google.com/github/Ruanvi/estudos-progamacao/blob/main/Aula_Tipos_de_Dados.ipynb\" target=\"_parent\"><img src=\"https://colab.research.google.com/assets/colab-badge.svg\" alt=\"Open In Colab\"/></a>"
      ]
    },
    {
      "cell_type": "code",
      "source": [
        "nome = 'Ruan Vitor'\n",
        "print(nome)"
      ],
      "metadata": {
        "colab": {
          "base_uri": "https://localhost:8080/"
        },
        "id": "BAcm29NbCWQd",
        "outputId": "1f7daec4-1fb7-4308-9715-c02d3462aa8f"
      },
      "execution_count": 2,
      "outputs": [
        {
          "output_type": "stream",
          "name": "stdout",
          "text": [
            "Ruan Vitor\n"
          ]
        }
      ]
    },
    {
      "cell_type": "code",
      "execution_count": 1,
      "metadata": {
        "colab": {
          "base_uri": "https://localhost:8080/"
        },
        "id": "1IBg53qoBrDZ",
        "outputId": "d1f30f71-ced6-49be-b1e5-c83737cd28d5"
      },
      "outputs": [
        {
          "output_type": "stream",
          "name": "stdout",
          "text": [
            "meu primeiro notbook\n"
          ]
        }
      ],
      "source": [
        "print('Meu primeiro notbook')"
      ]
    },
    {
      "cell_type": "code",
      "source": [
        "#Descobrir Tipo de Varialvel\n",
        "type(nome)"
      ],
      "metadata": {
        "colab": {
          "base_uri": "https://localhost:8080/"
        },
        "id": "62TDMIPFCg3k",
        "outputId": "b0b0af60-cd9d-4b25-8675-b8270ac04061"
      },
      "execution_count": 3,
      "outputs": [
        {
          "output_type": "execute_result",
          "data": {
            "text/plain": [
              "str"
            ]
          },
          "metadata": {},
          "execution_count": 3
        }
      ]
    },
    {
      "cell_type": "code",
      "source": [
        " a = 100\n",
        " b = 25.6\n",
        " c = a > b\n",
        " d = 'Chimpanze'"
      ],
      "metadata": {
        "id": "4mhqbO2VCu2D"
      },
      "execution_count": 19,
      "outputs": []
    },
    {
      "cell_type": "code",
      "source": [
        "type(a)"
      ],
      "metadata": {
        "colab": {
          "base_uri": "https://localhost:8080/"
        },
        "id": "VYl8XHaSEJah",
        "outputId": "fd397e58-4ebb-4aad-bad0-e4c81f124e63"
      },
      "execution_count": 7,
      "outputs": [
        {
          "output_type": "execute_result",
          "data": {
            "text/plain": [
              "int"
            ]
          },
          "metadata": {},
          "execution_count": 7
        }
      ]
    },
    {
      "cell_type": "code",
      "source": [
        "type(b)"
      ],
      "metadata": {
        "colab": {
          "base_uri": "https://localhost:8080/"
        },
        "id": "iB43mmJYEwJu",
        "outputId": "6c523c51-b21c-4d0c-e147-861f3a779bd2"
      },
      "execution_count": 20,
      "outputs": [
        {
          "output_type": "execute_result",
          "data": {
            "text/plain": [
              "float"
            ]
          },
          "metadata": {},
          "execution_count": 20
        }
      ]
    },
    {
      "cell_type": "code",
      "source": [
        "type(c)"
      ],
      "metadata": {
        "colab": {
          "base_uri": "https://localhost:8080/"
        },
        "id": "zVKFzq57EzT0",
        "outputId": "388cbd13-7359-4a6b-87c7-b66b7784f312"
      },
      "execution_count": 10,
      "outputs": [
        {
          "output_type": "execute_result",
          "data": {
            "text/plain": [
              "bool"
            ]
          },
          "metadata": {},
          "execution_count": 10
        }
      ]
    },
    {
      "cell_type": "code",
      "source": [
        "print(c)"
      ],
      "metadata": {
        "colab": {
          "base_uri": "https://localhost:8080/"
        },
        "id": "4-xVEZY3KhyO",
        "outputId": "bcd6bd25-227a-4bd7-dd22-7e856dc72488"
      },
      "execution_count": 21,
      "outputs": [
        {
          "output_type": "stream",
          "name": "stdout",
          "text": [
            "True\n"
          ]
        }
      ]
    },
    {
      "cell_type": "markdown",
      "source": [
        "Tipos de dados Booleanos ----> (Verdadeiro) ou (Falso)"
      ],
      "metadata": {
        "id": "9sfAzsFZKtvN"
      }
    },
    {
      "cell_type": "code",
      "source": [
        "a = 100 < 200\n",
        "b = 85 == 6\n",
        "c = 'Evelyn' == 'Victoria'\n",
        "d = 25 == '25'\n",
        "e = 30 == (6*5)\n",
        "f = 'Flamengo' != 'vasco'"
      ],
      "metadata": {
        "id": "0K4XJFQIKzEG"
      },
      "execution_count": 31,
      "outputs": []
    },
    {
      "cell_type": "markdown",
      "source": [
        "!= ----> True\n",
        "\", = ------> false"
      ],
      "metadata": {
        "id": "ra6LuD7FMXyk"
      }
    },
    {
      "cell_type": "code",
      "source": [
        "print(a)\n",
        "print(b)\n",
        "print(c)\n",
        "print(d)\n",
        "print(e)\n",
        "print(f)"
      ],
      "metadata": {
        "id": "NZunllSzLGws"
      },
      "execution_count": null,
      "outputs": []
    },
    {
      "cell_type": "code",
      "source": [
        "notaAprovacao = 7.0 \n",
        "notaBabadeira = 2.0\n",
        "print(notaAprovacao < notaBabadeira)"
      ],
      "metadata": {
        "colab": {
          "base_uri": "https://localhost:8080/"
        },
        "id": "O2Ra68SNMuM1",
        "outputId": "339d37da-1a36-4b83-8e9d-3105752d5b87"
      },
      "execution_count": 40,
      "outputs": [
        {
          "output_type": "stream",
          "name": "stdout",
          "text": [
            "False\n"
          ]
        }
      ]
    },
    {
      "cell_type": "code",
      "source": [
        "if(notaBabadeira >= notaAprovacao):\n",
        "  print('Aprovado')\n",
        "else:\n",
        "  print('Reprovado')"
      ],
      "metadata": {
        "colab": {
          "base_uri": "https://localhost:8080/"
        },
        "id": "XeFHVEmRNGne",
        "outputId": "bb994131-cd1a-4e37-85cf-2295db741e08"
      },
      "execution_count": 42,
      "outputs": [
        {
          "output_type": "stream",
          "name": "stdout",
          "text": [
            "Reprovado\n"
          ]
        }
      ]
    },
    {
      "cell_type": "code",
      "source": [
        "notaAprovacao = 7.0\n",
        "notaBabadeira = 10"
      ],
      "metadata": {
        "id": "_PPdSQZvPZwF"
      },
      "execution_count": 54,
      "outputs": []
    },
    {
      "cell_type": "code",
      "source": [
        "if(notaBabadeira >= notaAprovacao):\n",
        "  print('Aprovado')\n",
        "elif(notaBabadeira >4 <7):\n",
        "  print('recuperacao')\n",
        "else:\n",
        "  print('Reprovado')"
      ],
      "metadata": {
        "colab": {
          "base_uri": "https://localhost:8080/"
        },
        "id": "BCdv4McYO9XR",
        "outputId": "59242d3e-e462-41c3-d781-9b8b83befb8b"
      },
      "execution_count": 55,
      "outputs": [
        {
          "output_type": "stream",
          "name": "stdout",
          "text": [
            "Aprovado\n"
          ]
        }
      ]
    },
    {
      "cell_type": "markdown",
      "source": [
        "Exemplo do prof: Pablo Ramon"
      ],
      "metadata": {
        "id": "VpoKW3VnS7lX"
      }
    },
    {
      "cell_type": "code",
      "source": [
        "if(notaBabadeira >= notaAprovacao):\n",
        "  print('Aprovado')\n",
        "elif(notaBabadeira >= 4 and notaBabadeira <7):\n",
        "  print('recuperacao')\n",
        "else:\n",
        "  print('Reprovado')"
      ],
      "metadata": {
        "colab": {
          "base_uri": "https://localhost:8080/"
        },
        "id": "QRb3zIO-RKAi",
        "outputId": "72077a70-883f-4bc2-cbe3-e3df0564a727"
      },
      "execution_count": 56,
      "outputs": [
        {
          "output_type": "stream",
          "name": "stdout",
          "text": [
            "Aprovado\n"
          ]
        }
      ]
    },
    {
      "cell_type": "code",
      "source": [],
      "metadata": {
        "colab": {
          "base_uri": "https://localhost:8080/"
        },
        "id": "cvye6bbdTAIf",
        "outputId": "f2f827de-9746-4818-e3a2-13a7c04f9a19"
      },
      "execution_count": 64,
      "outputs": [
        {
          "output_type": "stream",
          "name": "stdout",
          "text": [
            "Aprovado\n"
          ]
        }
      ]
    },
    {
      "cell_type": "markdown",
      "source": [
        "Input de dados no Pyton"
      ],
      "metadata": {
        "id": "gm5xkFaXUcR1"
      }
    },
    {
      "cell_type": "code",
      "source": [
        "nota1 = input('Digite a nota, Magra close')\n",
        "nota2 = input('Digite a nota, Verdinha')\n",
        "print(nota1+nota2)"
      ],
      "metadata": {
        "colab": {
          "base_uri": "https://localhost:8080/"
        },
        "id": "yAOnLeg2UhJt",
        "outputId": "649e27cb-0f14-4551-d1ed-8632190c49ed"
      },
      "execution_count": 60,
      "outputs": [
        {
          "output_type": "stream",
          "name": "stdout",
          "text": [
            "Digite a nota, Magra close10\n",
            "Digite a nota, Verdinha3\n",
            "103\n"
          ]
        }
      ]
    },
    {
      "cell_type": "markdown",
      "source": [
        "input ------> float(input('')"
      ],
      "metadata": {
        "id": "DfETNFyvVfyy"
      }
    },
    {
      "cell_type": "code",
      "source": [
        "nota1 = float(input('Digite a nota, Magra close'))\n",
        "nota2 = float(input('Digite a nota, Verdinha'))\n",
        "print(nota1+nota2)"
      ],
      "metadata": {
        "colab": {
          "base_uri": "https://localhost:8080/"
        },
        "id": "1nhu8YhcVRr7",
        "outputId": "ae70307e-1866-4d87-a294-08aad1a5a441"
      },
      "execution_count": 61,
      "outputs": [
        {
          "output_type": "stream",
          "name": "stdout",
          "text": [
            "Digite a nota, Magra close10\n",
            "Digite a nota, Verdinha3\n",
            "13.0\n"
          ]
        }
      ]
    },
    {
      "cell_type": "code",
      "source": [
        "type(d)"
      ],
      "metadata": {
        "colab": {
          "base_uri": "https://localhost:8080/"
        },
        "id": "ZdJZsN4EFWKf",
        "outputId": "f07dbaae-a673-4dfd-fa04-cdedf9bab88c"
      },
      "execution_count": 18,
      "outputs": [
        {
          "output_type": "execute_result",
          "data": {
            "text/plain": [
              "str"
            ]
          },
          "metadata": {},
          "execution_count": 18
        }
      ]
    },
    {
      "cell_type": "code",
      "source": [
        "nota1 = float(input('Digite a nota, Magra close'))\n",
        "nota2 = float(input('Digite a nota, Verdinha'))\n",
        "nota3 = float(input('Digite a nota, Microsoft'))\n",
        "media = (nota1+nota2+nota3)/3\n",
        "print(media)\n",
        "if(media < 7):\n",
        "  print('Aprovado')\n",
        "elif(media <4 ):\n",
        "  print('recuperacao')\n",
        "else:\n",
        "  print('Reprovado')"
      ],
      "metadata": {
        "colab": {
          "base_uri": "https://localhost:8080/"
        },
        "id": "yuX3pKnBFs-x",
        "outputId": "59ff6082-5995-4a2a-c597-6a5b2c6bf2b1"
      },
      "execution_count": 68,
      "outputs": [
        {
          "output_type": "stream",
          "name": "stdout",
          "text": [
            "Digite a nota, Magra close10\n",
            "Digite a nota, Verdinha3\n",
            "Digite a nota, Microsoft9\n",
            "7.333333333333333\n",
            "Reprovado\n"
          ]
        }
      ]
    },
    {
      "cell_type": "code",
      "source": [],
      "metadata": {
        "id": "NJcc74xeWROS"
      },
      "execution_count": null,
      "outputs": []
    }
  ]
}