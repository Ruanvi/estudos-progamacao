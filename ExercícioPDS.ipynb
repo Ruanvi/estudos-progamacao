{
  "nbformat": 4,
  "nbformat_minor": 0,
  "metadata": {
    "colab": {
      "provenance": [],
      "authorship_tag": "ABX9TyMEbdu67g5XDV7CE9KEMMtg",
      "include_colab_link": true
    },
    "kernelspec": {
      "name": "python3",
      "display_name": "Python 3"
    },
    "language_info": {
      "name": "python"
    }
  },
  "cells": [
    {
      "cell_type": "markdown",
      "metadata": {
        "id": "view-in-github",
        "colab_type": "text"
      },
      "source": [
        "<a href=\"https://colab.research.google.com/github/Ruanvi/estudos-progamacao/blob/main/Exerc%C3%ADcioPDS.ipynb\" target=\"_parent\"><img src=\"https://colab.research.google.com/assets/colab-badge.svg\" alt=\"Open In Colab\"/></a>"
      ]
    },
    {
      "cell_type": "code",
      "execution_count": 2,
      "metadata": {
        "id": "dKMoGzDaFOvd"
      },
      "outputs": [],
      "source": [
        "#Declaração da função\n",
        "def my_frist_function():\n",
        "  print('minha primeira função')"
      ]
    },
    {
      "cell_type": "code",
      "source": [
        "#chamando uma função\n",
        "my_frist_function()"
      ],
      "metadata": {
        "colab": {
          "base_uri": "https://localhost:8080/"
        },
        "id": "oWOBjNwbHv9O",
        "outputId": "7000aea5-5db0-42cf-9b99-6b5f15198491"
      },
      "execution_count": 3,
      "outputs": [
        {
          "output_type": "stream",
          "name": "stdout",
          "text": [
            "minha primeira função\n"
          ]
        }
      ]
    },
    {
      "cell_type": "code",
      "source": [
        "def pronomeTratam(pronome):\n",
        "  print(pronome,\"Evelyn\")"
      ],
      "metadata": {
        "id": "ekFcKXItIfCv"
      },
      "execution_count": 6,
      "outputs": []
    },
    {
      "cell_type": "code",
      "source": [
        "pronomeTratam('Dutora')\n",
        "pronomeTratam('Ilmo')\n",
        "pronomeTratam('Senhora')"
      ],
      "metadata": {
        "colab": {
          "base_uri": "https://localhost:8080/"
        },
        "id": "DkE3t2hdJDyH",
        "outputId": "5edd8ed7-5579-4b3a-e52c-682a0cdb286e"
      },
      "execution_count": 7,
      "outputs": [
        {
          "output_type": "stream",
          "name": "stdout",
          "text": [
            "Dutora Evelyn\n",
            "Ilmo Evelyn\n",
            "Senhora Evelyn\n"
          ]
        }
      ]
    },
    {
      "cell_type": "code",
      "source": [
        "def tratamNome(pronome, nome):\n",
        "  print(pronome, nome)"
      ],
      "metadata": {
        "id": "CN4X4_XNJz3W"
      },
      "execution_count": 11,
      "outputs": []
    },
    {
      "cell_type": "code",
      "source": [
        "tratamNome('Dr(a)','Evelyn')"
      ],
      "metadata": {
        "id": "wq0-MXCNKOie"
      },
      "execution_count": null,
      "outputs": []
    },
    {
      "cell_type": "code",
      "source": [
        "def nomeEAno(nome, ano):\n",
        "  Idade = 2023 - ano\n",
        "  print(nome, Idade, 'anos')"
      ],
      "metadata": {
        "id": "CFQJnDnLMmOm"
      },
      "execution_count": 25,
      "outputs": []
    },
    {
      "cell_type": "code",
      "source": [
        "nomeEAno('Evelyn', 2004)"
      ],
      "metadata": {
        "colab": {
          "base_uri": "https://localhost:8080/"
        },
        "id": "keMQBSv8K2A2",
        "outputId": "464dab82-45dd-4da8-8292-9b17be02e9e3"
      },
      "execution_count": 26,
      "outputs": [
        {
          "output_type": "stream",
          "name": "stdout",
          "text": [
            "Evelyn 19 anos\n"
          ]
        }
      ]
    },
    {
      "cell_type": "code",
      "source": [
        "#Função que recebe Altura e PEso e retorna o IMC\n",
        "#Fórmula IMC peso/altura**2 "
      ],
      "metadata": {
        "id": "W4oHWeMUOAWd"
      },
      "execution_count": 27,
      "outputs": []
    },
    {
      "cell_type": "code",
      "source": [
        "def calculoIMC(altura, peso):\n",
        "   print(peso/altura**2)"
      ],
      "metadata": {
        "id": "WR8DxhzCR3if"
      },
      "execution_count": 41,
      "outputs": []
    },
    {
      "cell_type": "code",
      "source": [
        "calculoIMC(1.80, 78)"
      ],
      "metadata": {
        "colab": {
          "base_uri": "https://localhost:8080/"
        },
        "id": "dZ1zu7nRSEPH",
        "outputId": "ae77f032-2006-4ef9-8250-e050898c6527"
      },
      "execution_count": 40,
      "outputs": [
        {
          "output_type": "stream",
          "name": "stdout",
          "text": [
            "24.074074074074073\n"
          ]
        }
      ]
    },
    {
      "cell_type": "code",
      "source": [
        "def calculoIMC(altura, peso):\n",
        " return peso/altura**2"
      ],
      "metadata": {
        "id": "eSNCpmHhQy4r"
      },
      "execution_count": 42,
      "outputs": []
    },
    {
      "cell_type": "code",
      "source": [
        "calculoIMC(1.80, 78) > 20\n"
      ],
      "metadata": {
        "colab": {
          "base_uri": "https://localhost:8080/"
        },
        "id": "g61V_6XZQ4Wq",
        "outputId": "e2c33f92-5627-42e3-b393-439acd35c396"
      },
      "execution_count": 44,
      "outputs": [
        {
          "output_type": "execute_result",
          "data": {
            "text/plain": [
              "True"
            ]
          },
          "metadata": {},
          "execution_count": 44
        }
      ]
    },
    {
      "cell_type": "code",
      "source": [
        "# J = C * i * t\n",
        "# Sendo :\n",
        "# J =\n",
        "# C =\n",
        "# i =\n",
        "# t =  \n",
        "# Crie uma função que recebe um valor de emprestimo e o tempo e retorne quanto será pago o juros ao final do periodo.\n",
        "# Use uma taxa de juros de 2.5%\n"
      ],
      "metadata": {
        "id": "KwZtYmOJYeSx"
      },
      "execution_count": 45,
      "outputs": []
    },
    {
      "cell_type": "code",
      "source": [
        "def valorEmprest(valor, tempo ):\n",
        " return  valor * 0.025 * tempo"
      ],
      "metadata": {
        "id": "qP_iJC9raFVI"
      },
      "execution_count": 56,
      "outputs": []
    },
    {
      "cell_type": "code",
      "source": [
        "valorEmprest(1000, 1)\n"
      ],
      "metadata": {
        "colab": {
          "base_uri": "https://localhost:8080/"
        },
        "id": "6wDHkHdpaFZ4",
        "outputId": "e3fb3a8e-db0d-49f4-ee52-97dc00402e49"
      },
      "execution_count": 57,
      "outputs": [
        {
          "output_type": "execute_result",
          "data": {
            "text/plain": [
              "25.0"
            ]
          },
          "metadata": {},
          "execution_count": 57
        }
      ]
    },
    {
      "cell_type": "code",
      "source": [
        "def valorTotalEmprest(valor, tempo ):\n",
        " return  valor + valorEmprest(valor, tempo)"
      ],
      "metadata": {
        "id": "mVDZcfUJdTsZ"
      },
      "execution_count": 65,
      "outputs": []
    },
    {
      "cell_type": "code",
      "source": [
        "valorTotalEmprest(1000, 5)"
      ],
      "metadata": {
        "colab": {
          "base_uri": "https://localhost:8080/"
        },
        "id": "DmbXrZ9ieOsJ",
        "outputId": "5ebe2201-6833-41e0-98dd-a1a61aea95e2"
      },
      "execution_count": 66,
      "outputs": [
        {
          "output_type": "execute_result",
          "data": {
            "text/plain": [
              "1125.0"
            ]
          },
          "metadata": {},
          "execution_count": 66
        }
      ]
    },
    {
      "cell_type": "code",
      "source": [
        "valor = float(input('Digite o valor do emprestimo: '))\n",
        "tempo = int(input('Em quanto tempo? '))\n",
        "\n",
        "\n",
        "valorTotalEmprest(valor, tempo)"
      ],
      "metadata": {
        "colab": {
          "base_uri": "https://localhost:8080/"
        },
        "id": "8FcLOYBIfEb9",
        "outputId": "975813fe-2c94-47b9-ca80-936561a7b412"
      },
      "execution_count": 68,
      "outputs": [
        {
          "name": "stdout",
          "output_type": "stream",
          "text": [
            "Digite o valor do emprestimo: 3560\n",
            "Em quanto tempo? 12\n"
          ]
        },
        {
          "output_type": "execute_result",
          "data": {
            "text/plain": [
              "4628.0"
            ]
          },
          "metadata": {},
          "execution_count": 68
        }
      ]
    },
    {
      "cell_type": "code",
      "source": [],
      "metadata": {
        "id": "OIvKuRUYgETK"
      },
      "execution_count": null,
      "outputs": []
    }
  ]
}